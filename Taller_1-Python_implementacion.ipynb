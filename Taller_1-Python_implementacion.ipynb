{
 "cells": [
  {
   "cell_type": "markdown",
   "metadata": {},
   "source": [
    "## Implementacion en Python\n",
    "\n",
    "Desarrolle un programa en Java que tenga dos threads. El primer thread imprime los números pares entre 1 y un límite superior recibido por entrada estándar. El segundo thread imprime los números impares entre el mismo rango. Después de imprimir un número en la consola, el thread debe dormir por una cantidad de milisegundos especificada desde la creación del thread. Haga dos versiones de este programa, una utilizando la extensión de la clase Thread y otra mediante la implementación de la interface Runnable o alguna de las dos implementaciones existentes en Python"
   ]
  },
  {
   "cell_type": "code",
   "execution_count": 7,
   "metadata": {},
   "outputs": [],
   "source": [
    "import logging\n",
    "import threading\n",
    "import time\n",
    "import random"
   ]
  },
  {
   "cell_type": "code",
   "execution_count": 18,
   "metadata": {},
   "outputs": [
    {
     "name": "stdout",
     "output_type": "stream",
     "text": [
      "Ingrese el limite superior del metodo: 10\n",
      "El rango de valores va de 1 a 10\n",
      "Estimado usuario por favor espere 3.933949417850363 segundos\n",
      "Primer thread inicializado\n",
      "Segundo thread inicializado\n",
      "ID Thread: 2 (impar): 1\n",
      "ID Thread: 1 (par): 2\n",
      "ID Thread: 2 (impar): 3\n",
      "ID Thread: 1 (par): 4\n",
      "ID Thread: 2 (impar): 5\n",
      "ID Thread: 1 (par): 6\n",
      "ID Thread: 2 (impar): 7\n",
      "ID Thread: 1 (par): 8\n",
      "ID Thread: 2 (impar): 9\n",
      "ID Thread: 1 (par): 10\n"
     ]
    }
   ],
   "source": [
    "# logger Config\n",
    "format = \"%(asctime)s: %(message)s\"\n",
    "logging.basicConfig(format=format,level=logging.INFO,datefmt=\"%H:%M:%S\")\n",
    "\n",
    "class Es_Par_Thread(threading.Thread):\n",
    "    def __init__(self,es_Par,maximo,id_thread:int,delay_time:float,msg:str):\n",
    "        super().__init__()\n",
    "        self.es_Par = es_Par\n",
    "        self.maximo = maximo\n",
    "        self.id_thread = id_thread\n",
    "        self.delay_time=delay_time\n",
    "        self.msg=msg\n",
    "        print(msg)\n",
    "        \n",
    "    def esPar(self):\n",
    "        for i in range(self.maximo):\n",
    "            if self.es_Par and ((i+1)%2==0): # Es par\n",
    "                print(f\"ID Thread: {self.id_thread} (par): {i+1}\")\n",
    "            elif not(self.es_Par) and ((i+1)%2==1):\n",
    "                print(f\"ID Thread: {self.id_thread} (impar): {i+1}\")\n",
    "            time.sleep(self.delay_time)\n",
    "        \n",
    "    def run(self):\n",
    "        self.esPar()\n",
    "        \n",
    "threads = []\n",
    "delay_time = random.uniform(2.5,4.5)\n",
    "maximo = int( input(\"Ingrese el limite superior del metodo: \") )\n",
    "print(\"El rango de valores va de 1 a\",maximo)\n",
    "print(f\"Estimado usuario por favor espere {delay_time} segundos\")\n",
    "thread1 = Es_Par_Thread(True, maximo, id_thread = 1, delay_time = delay_time,msg = \"Primer thread inicializado\")\n",
    "thread1.start()\n",
    "\n",
    "thread2 = Es_Par_Thread(False,maximo,id_thread = 2, delay_time = delay_time,msg = \"Segundo thread inicializado\")\n",
    "thread2.start()"
   ]
  },
  {
   "cell_type": "code",
   "execution_count": null,
   "metadata": {},
   "outputs": [],
   "source": []
  }
 ],
 "metadata": {
  "kernelspec": {
   "display_name": "Python 3",
   "language": "python",
   "name": "python3"
  },
  "language_info": {
   "codemirror_mode": {
    "name": "ipython",
    "version": 3
   },
   "file_extension": ".py",
   "mimetype": "text/x-python",
   "name": "python",
   "nbconvert_exporter": "python",
   "pygments_lexer": "ipython3",
   "version": "3.8.3"
  }
 },
 "nbformat": 4,
 "nbformat_minor": 4
}
